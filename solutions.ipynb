{
 "cells": [
  {
   "cell_type": "markdown",
   "id": "256bf2ab-8621-4ed6-ab06-4581012d1d47",
   "metadata": {},
   "source": [
    "#### Imprime en consola Hello World.\r\n"
   ]
  },
  {
   "cell_type": "code",
   "execution_count": 1,
   "id": "ece2f2d6-b4cf-4f01-8d68-d59d6642b650",
   "metadata": {},
   "outputs": [
    {
     "name": "stdout",
     "output_type": "stream",
     "text": [
      "Hello World\n"
     ]
    }
   ],
   "source": [
    "%%bash\n",
    "echo \"Hello World\""
   ]
  },
  {
   "cell_type": "markdown",
   "id": "8507eccb-f084-418a-a285-a58a32f40a01",
   "metadata": {},
   "source": [
    "#### Crea un directorio nuevo llamado `new_dir.`"
   ]
  },
  {
   "cell_type": "code",
   "execution_count": 2,
   "id": "ecb2689a-9ba5-473f-8f22-2627531cef58",
   "metadata": {},
   "outputs": [],
   "source": [
    "%%bash\n",
    "mkdir new_dir"
   ]
  },
  {
   "cell_type": "code",
   "execution_count": 3,
   "id": "c6961bf3-f02a-4e03-8a0b-3689d6dc9885",
   "metadata": {},
   "outputs": [
    {
     "name": "stdout",
     "output_type": "stream",
     "text": [
      "README.md\n",
      "list_files.sh\n",
      "lorem\n",
      "new_dir\n",
      "solutions.ipynb\n"
     ]
    }
   ],
   "source": [
    "%%bash\n",
    "ls"
   ]
  },
  {
   "cell_type": "markdown",
   "id": "5ebc9a29-70b7-447e-b3e8-2c6d435920e6",
   "metadata": {},
   "source": [
    "#### Elimina ese directorio"
   ]
  },
  {
   "cell_type": "code",
   "execution_count": 4,
   "id": "a372e683-329e-4ff0-98d6-d6528696ca94",
   "metadata": {},
   "outputs": [],
   "source": [
    "%%bash\n",
    "rm -rf new_dir/"
   ]
  },
  {
   "cell_type": "code",
   "execution_count": 5,
   "id": "e2d85d19-bfe0-4ba6-992b-603f937cc238",
   "metadata": {},
   "outputs": [],
   "source": [
    "%%bash\n",
    "mkdir lorem-copy"
   ]
  },
  {
   "cell_type": "markdown",
   "id": "3b7657f7-f612-4ec3-bfa3-e7f9ffb1020c",
   "metadata": {},
   "source": [
    "#### Copia el archivo `sed.txt` dentro de la carpeta lorem a la carpeta lorem-copy. TIP: Puede ser necesario crear la carpeta lorem-copy primero.\r\n"
   ]
  },
  {
   "cell_type": "code",
   "execution_count": 6,
   "id": "2d4bfed4-66aa-4b2e-bf23-69d8c61eaf14",
   "metadata": {},
   "outputs": [],
   "source": [
    "%%bash\n",
    "cp lorem/sed.txt lorem-copy/"
   ]
  },
  {
   "cell_type": "markdown",
   "id": "d120ef4f-7475-4f4f-9623-99637d85f41f",
   "metadata": {},
   "source": [
    "#### Muestra el contenido del archivo `sed.txt` dentro de la carpeta lorem.\r\n"
   ]
  },
  {
   "cell_type": "code",
   "execution_count": 7,
   "id": "377bb32e-c2d8-46d2-9277-eea3254d5789",
   "metadata": {},
   "outputs": [
    {
     "name": "stdout",
     "output_type": "stream",
     "text": [
      "Sed ut perspiciatis unde omnis iste natus error sit voluptatem accusantium doloremque laudantium, \n",
      "totam rem aperiam, eaque ipsa quae ab illo inventore veritatis et quasi architecto beatae vitae dicta sunt explicabo. \n",
      "Nemo enim ipsam voluptatem quia voluptas sit aspernatur aut odit aut fugit, \n",
      "sed quia consequuntur magni dolores eos qui ratione voluptatem sequi nesciunt. \n",
      "Neque porro quisquam est, qui dolorem ipsum quia dolor sit amet, consectetur, adipisci velit, \n",
      "sed quia non numquam eius modi tempora incidunt ut labore et dolore magnam aliquam quaerat voluptatem. \n",
      "Ut enim ad minima veniam, quis nostrum exercitationem ullam corporis suscipit laboriosam, \n",
      "nisi ut aliquid ex ea commodi consequatur? Quis autem vel eum iure reprehenderit qui in ea voluptate velit esse quam nihil molestiae consequatur, \n",
      "vel illum qui dolorem eum fugiat quo voluptas nulla pariatur?"
     ]
    }
   ],
   "source": [
    "%%bash\n",
    "cat lorem/sed.txt"
   ]
  },
  {
   "cell_type": "markdown",
   "id": "a21bb407-8c77-49fb-8e23-0bed5b427558",
   "metadata": {},
   "source": [
    "#### Muestra el contenido de los archivos `at.txt` y `lorem.txt` dentro de la carpeta lorem.\r\n"
   ]
  },
  {
   "cell_type": "code",
   "execution_count": 8,
   "id": "4290537a-4824-4462-b344-d49e2017ce72",
   "metadata": {},
   "outputs": [
    {
     "name": "stdout",
     "output_type": "stream",
     "text": [
      "At vero eos et accusamus et iusto odio dignissimos ducimus qui blanditiis praesentium voluptatum \n",
      "deleniti atque corrupti quos dolores et quas molestias excepturi sint occaecati cupiditate non \n",
      "provident, similique sunt in culpa qui officia deserunt mollitia animi, id est laborum et dolorum fuga. \n",
      "Et harum quidem rerum facilis est et expedita distinctio. \n",
      "Nam libero tempore, cum soluta nobis est eligendi optio cumque nihil impedit quo minus id quod \n",
      "maxime placeat facere possimus, omnis voluptas assumenda est, omnis dolor repellendus. \n",
      "Temporibus autem quibusdam et aut officiis debitis aut rerum necessitatibus saepe eveniet \n",
      "ut et voluptates repudiandae sint et molestiae non recusandae. \n",
      "Itaque earum rerum hic tenetur a sapiente delectus, ut aut reiciendis voluptatibus maiores \n",
      "alias consequatur aut perferendis doloribus asperiores repellatLorem ipsum dolor sit amet, consectetur adipiscing elit, sed do eiusmod tempor incididunt ut labore et dolore magna aliqua. \n",
      "Ut enim ad minim veniam, quis nostrud exercitation ullamco laboris nisi ut aliquip ex ea commodo consequat. \n",
      "Duis aute irure dolor in reprehenderit in voluptate velit esse cillum dolore eu fugiat nulla pariatur. \n",
      "Excepteur sint occaecat cupidatat non proident, sunt in culpa qui officia deserunt mollit anim id est laborum."
     ]
    }
   ],
   "source": [
    "%%bash\n",
    "cat lorem/at.txt lorem/lorem.txt"
   ]
  },
  {
   "cell_type": "markdown",
   "id": "b2ebf924-3fe1-42d4-94bf-1513679b1585",
   "metadata": {},
   "source": [
    "#### Visualiza las primeras 3 líneas del archivo `sed.txt` dentro de la carpeta lorem-copy\r\n"
   ]
  },
  {
   "cell_type": "code",
   "execution_count": 9,
   "id": "b99d364f-240e-4411-8cea-43cd1cd477d8",
   "metadata": {},
   "outputs": [
    {
     "name": "stdout",
     "output_type": "stream",
     "text": [
      "Sed ut perspiciatis unde omnis iste natus error sit voluptatem accusantium doloremque laudantium, \n",
      "totam rem aperiam, eaque ipsa quae ab illo inventore veritatis et quasi architecto beatae vitae dicta sunt explicabo. \n",
      "Nemo enim ipsam voluptatem quia voluptas sit aspernatur aut odit aut fugit, \n"
     ]
    }
   ],
   "source": [
    "%%bash\n",
    "head -n 3 lorem-copy/sed.txt"
   ]
  },
  {
   "cell_type": "markdown",
   "id": "95452679-86be-4a8d-8134-8239714908f1",
   "metadata": {},
   "source": [
    "#### Añade Homo homini lupus. al final de archivo `sed.txt` dentro de la carpeta lorem-copy.\r\n"
   ]
  },
  {
   "cell_type": "code",
   "execution_count": 10,
   "id": "95588e5f-c8cc-470a-b570-de884834c70e",
   "metadata": {},
   "outputs": [],
   "source": [
    "%%bash\n",
    "echo \"Homo homini lupus\" >> lorem-copy/sed.txt"
   ]
  },
  {
   "cell_type": "markdown",
   "id": "96d18e44-1855-4bfc-97d3-b5e8bf2fa7af",
   "metadata": {},
   "source": [
    "#### Visualiza las últimas 3 líneas del archivo `sed.txt` dentro de la carpeta lorem-copy. Deberías ver ahora Homo homini lupus..\r\n"
   ]
  },
  {
   "cell_type": "code",
   "execution_count": 11,
   "id": "59f93a0c-5ed3-4b8f-a536-c8375554a8f6",
   "metadata": {},
   "outputs": [
    {
     "name": "stdout",
     "output_type": "stream",
     "text": [
      "Ut enim ad minima veniam, quis nostrum exercitationem ullam corporis suscipit laboriosam, \n",
      "nisi ut aliquid ex ea commodi consequatur? Quis autem vel eum iure reprehenderit qui in ea voluptate velit esse quam nihil molestiae consequatur, \n",
      "vel illum qui dolorem eum fugiat quo voluptas nulla pariatur?Homo homini lupus\n"
     ]
    }
   ],
   "source": [
    "%%bash\n",
    "tail -n 3 lorem-copy/sed.txt"
   ]
  },
  {
   "cell_type": "markdown",
   "id": "805f3bb2-0cea-4a3d-bafa-a2d7ccb0f711",
   "metadata": {},
   "source": [
    "#### Encuentra al usuario activo en el sistema.\r\n",
    "\r\n"
   ]
  },
  {
   "cell_type": "code",
   "execution_count": 12,
   "id": "1848da32-c1a8-48f9-bdf8-354a1682c489",
   "metadata": {},
   "outputs": [
    {
     "name": "stdout",
     "output_type": "stream",
     "text": [
      "borja\n"
     ]
    }
   ],
   "source": [
    "%%bash\n",
    "whoami"
   ]
  },
  {
   "cell_type": "markdown",
   "id": "b1d170f4-3401-49c9-a1b2-da82472d69a3",
   "metadata": {},
   "source": [
    "#### Encuentra dónde estás en tu sistema de ficheros.\r\n",
    "\r\n"
   ]
  },
  {
   "cell_type": "code",
   "execution_count": 13,
   "id": "165b2d81-f5c9-44fd-ae80-b69130f575f3",
   "metadata": {},
   "outputs": [
    {
     "name": "stdout",
     "output_type": "stream",
     "text": [
      "/c/Users/borja/Desktop/Working/1.1-lab_bash_borja\n"
     ]
    }
   ],
   "source": [
    "%%bash\n",
    "pwd"
   ]
  },
  {
   "cell_type": "markdown",
   "id": "b7120e3a-3a9c-43d1-9ad3-ef8085a84667",
   "metadata": {},
   "source": [
    "#### Lista los archivos que terminan por `.txt` en la carpeta lorem.\r\n"
   ]
  },
  {
   "cell_type": "code",
   "execution_count": 14,
   "id": "6635f331-e001-4c55-9f2e-e5ef1332d2a7",
   "metadata": {
    "scrolled": true
   },
   "outputs": [
    {
     "name": "stdout",
     "output_type": "stream",
     "text": [
      "lorem/at.txt\n",
      "lorem/lorem.txt\n",
      "lorem/sed.txt\n"
     ]
    }
   ],
   "source": [
    "%%bash\n",
    "ls lorem/*.txt"
   ]
  },
  {
   "cell_type": "markdown",
   "id": "923d4a7c-563b-4570-8ee4-d8411fbe8ff1",
   "metadata": {},
   "source": [
    "#### Cuenta el número de líneas que tiene el archivo sed.txt dentro de la carpeta lorem.\r\n",
    "\r\n"
   ]
  },
  {
   "cell_type": "code",
   "execution_count": 15,
   "id": "582c29f0-ee57-4b9d-8dfc-12a7eeb255f9",
   "metadata": {},
   "outputs": [
    {
     "name": "stdout",
     "output_type": "stream",
     "text": [
      "8 lorem/sed.txt\n"
     ]
    }
   ],
   "source": [
    "%%bash\n",
    "wc -l lorem/sed.txt"
   ]
  },
  {
   "cell_type": "markdown",
   "id": "8ace700a-1930-4109-bfd1-0727b94fa88f",
   "metadata": {},
   "source": [
    "#### Cuenta el número de archivos que empiezan por lorem que están en este directorio y en directorios internos.\r\n",
    "\r\n"
   ]
  },
  {
   "cell_type": "code",
   "execution_count": 16,
   "id": "a8e08516-76b5-4009-bbb6-744cebbbdc70",
   "metadata": {},
   "outputs": [
    {
     "name": "stdout",
     "output_type": "stream",
     "text": [
      "1\n"
     ]
    }
   ],
   "source": [
    "%%bash\n",
    "find . -type f -name \"lorem*\" | wc -l"
   ]
  },
  {
   "cell_type": "markdown",
   "id": "7f5965de-0572-4dc4-af11-a73ee0de0fe4",
   "metadata": {},
   "source": [
    "#### Cuenta el número de apariciones del string et en at.txt dentro de la carpeta lorem.\r\n"
   ]
  },
  {
   "cell_type": "code",
   "execution_count": 17,
   "id": "eecad388-ab66-454b-bdf6-ac9a96b98500",
   "metadata": {},
   "outputs": [
    {
     "name": "stdout",
     "output_type": "stream",
     "text": [
      "10\n"
     ]
    }
   ],
   "source": [
    "%%bash\n",
    "grep -o \"et\" lorem/at.txt | wc -l"
   ]
  },
  {
   "cell_type": "markdown",
   "id": "fdbdeaf2-6397-4581-8015-03511ab07930",
   "metadata": {},
   "source": [
    "#### Cualquier comando o comandos de bash se pueden almacenar en un fichero y ejecutar cuando queramos. Obviamente puedes utilizar tu editor preferido.\r\n",
    "\r\n"
   ]
  },
  {
   "cell_type": "code",
   "execution_count": 18,
   "id": "3e89b3c1-cdfb-4bf4-8176-4594b9d20de1",
   "metadata": {},
   "outputs": [],
   "source": [
    "%%bash\n",
    "touch list_files.sh"
   ]
  },
  {
   "cell_type": "code",
   "execution_count": 19,
   "id": "0d1e5270-864b-4a9b-87b1-f6e5de212f7c",
   "metadata": {},
   "outputs": [
    {
     "name": "stdout",
     "output_type": "stream",
     "text": [
      "ls\n",
      "ls\n"
     ]
    }
   ],
   "source": [
    "%%bash\n",
    "echo \"ls\" >> list_files.sh\n",
    "cat list_files.sh"
   ]
  },
  {
   "cell_type": "code",
   "execution_count": 20,
   "id": "9c1612d1-65b1-4251-afaf-fbd5d746cc95",
   "metadata": {},
   "outputs": [
    {
     "name": "stdout",
     "output_type": "stream",
     "text": [
      "README.md\n",
      "list_files.sh\n",
      "lorem\n",
      "lorem-copy\n",
      "solutions.ipynb\n",
      "README.md\n",
      "list_files.sh\n",
      "lorem\n",
      "lorem-copy\n",
      "solutions.ipynb\n"
     ]
    }
   ],
   "source": [
    "%%bash\n",
    "bash list_files.sh"
   ]
  }
 ],
 "metadata": {
  "kernelspec": {
   "display_name": "Python 3 (ipykernel)",
   "language": "python",
   "name": "python3"
  },
  "language_info": {
   "codemirror_mode": {
    "name": "ipython",
    "version": 3
   },
   "file_extension": ".py",
   "mimetype": "text/x-python",
   "name": "python",
   "nbconvert_exporter": "python",
   "pygments_lexer": "ipython3",
   "version": "3.10.1"
  }
 },
 "nbformat": 4,
 "nbformat_minor": 5
}
